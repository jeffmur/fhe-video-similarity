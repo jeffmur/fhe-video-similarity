{
 "cells": [
  {
   "cell_type": "markdown",
   "metadata": {},
   "source": [
    "Accuracy 🎯 vs Performance 🏃 \n",
    "---\n",
    "https://github.com/jeffmur/fhe-video-similarity/wiki/experiment\n",
    "\n",
    "This notebook serves to analyze, compare, and visulize the trade-off between accuracy and performance when using Fully Homomorphic Encryption (FHE) to compute video similarity scores.\n",
    "\n",
    "Note: The multi-threading feature for pre-processing is disabled for all experiments, as we value consistency over performance.\n",
    "\n",
    "Note: Every experiment uses the same encryption scheme & parameters:\n",
    "\n",
    "* Cryptosystem: CKKS\n",
    "* Polynomial Degree: 4096\n",
    "* Encode Scalar: 2^40\n",
    "* qSizes: [60, 40, 40, 60]\n",
    "\n",
    "There are three metrics being gather within the application:\n",
    "\n",
    "⚙️ **Pre-processing Time**: The time it takes to convert the video into a format that can be used for comparison.\n",
    "\n",
    "📊 **Similarity Scores**: The time it takes to encrypt & compute a similarity score."
   ]
  },
  {
   "cell_type": "code",
   "execution_count": 1,
   "metadata": {},
   "outputs": [],
   "source": [
    "from utils.acc_vs_perf_tables import verbose_md_table, mean_md_table"
   ]
  },
  {
   "cell_type": "markdown",
   "metadata": {},
   "source": [
    "# Experiment 1: Static Color\n",
    "\n",
    "Using ffmpeg to generate static colored videos with no audio."
   ]
  },
  {
   "cell_type": "markdown",
   "metadata": {},
   "source": [
    "## Scenario 1: Black & White\n",
    "\n",
    "Compare absolute black and white videos to determine the similarity score between the two."
   ]
  },
  {
   "cell_type": "markdown",
   "metadata": {
    "vscode": {
     "languageId": "plaintext"
    }
   },
   "source": [
    "### Test 1: 10 second video\n",
    "\n",
    "```bash\n",
    "ffmpeg -f lavfi -i color=c=black:s=1280x720 -c:v libx264 -t 10 -pix_fmt yuv420p -an Black_720p_10s.mp4\n",
    "ffmpeg -f lavfi -i color=c=white:s=1280x720 -c:v libx264 -t 10 -pix_fmt yuv420p -an White_720p_10s.mp4\n",
    "```"
   ]
  },
  {
   "cell_type": "markdown",
   "metadata": {},
   "source": [
    "#### Assertion 1: 100% Similarity\n",
    "\n",
    "> Hypothesis: The score should indicate high similarity between the two videos, as the segment distribution will not change."
   ]
  },
  {
   "cell_type": "code",
   "execution_count": 2,
   "metadata": {},
   "outputs": [
    {
     "data": {
      "text/markdown": [
       "Similarity [sys] [frameCount] | Score [%] | Mean FHE Absolute Error | Pre-processing (s) | Encryption (ms) | FHE Compute (ms) | Plaintext Compute (ms) | FHE/Plain Compute Growth (ms) [%]\n",
       "---|---|---|---|---|---|---|---\n",
       "KLD [linux] [all] | 4.04e-11 [100.00%] | 8.08e-11 | 1.00 | 25.00 | 9.00 | 0.33 | 8.67 [2602.70%]\n",
       "Cramer [linux] [all] | 4.96e-10 [100.00%] | 9.92e-10 | 1.00 | 11.00 | 19.00 | 0.19 | 18.81 [9744.56%]\n",
       "BC [linux] [all] | 1.00e+00 [100.00%] | 6.88e-10 | 1.00 | 24.00 | 5.00 | 0.09 | 4.91 [5713.95%]\n",
       "KLD [linux] [firstLast] | 2.07e-10 [100.00%] | 4.14e-10 | 0.64 | 25.00 | 9.00 | 0.36 | 8.64 [2393.07%]\n",
       "Cramer [linux] [firstLast] | 9.33e-10 [100.00%] | 1.87e-09 | 0.64 | 12.00 | 19.00 | 0.15 | 18.84 [12158.06%]\n",
       "BC [linux] [firstLast] | 1.00e+00 [100.00%] | 2.68e-10 | 0.64 | 24.00 | 5.00 | 0.08 | 4.92 [6229.11%]\n",
       "KLD [linux] [randomHalf] | 3.35e-01 [74.91%] | 5.36e-10 | 0.81 | 23.00 | 7.00 | 0.03 | 6.97 [26823.08%]\n",
       "Cramer [linux] [randomHalf] | 2.31e-01 [91.73%] | 3.15e-10 | 0.81 | 12.00 | 19.00 | 0.02 | 18.98 [90376.19%]\n",
       "BC [linux] [randomHalf] | 9.17e-01 [76.95%] | 1.85e-10 | 0.81 | 23.00 | 4.00 | 0.02 | 3.98 [26566.67%]\n",
       "KLD [s9] [all] | 2.80e-11 [100.00%] | 5.59e-11 | 9.00 | 194.00 | 68.00 | 0.04 | 67.96 [188788.89%]\n",
       "Cramer [s9] [all] | 4.50e-10 [100.00%] | 9.01e-10 | 9.00 | 99.00 | 154.00 | 0.04 | 153.96 [366566.67%]\n",
       "BC [s9] [all] | 1.00e+00 [100.00%] | 9.30e-11 | 9.00 | 186.00 | 35.00 | 0.02 | 34.98 [184110.53%]\n",
       "KLD [s9] [firstLast] | 2.14e-11 [100.00%] | 4.27e-11 | 5.50 | 104.00 | 42.00 | 0.73 | 41.27 [5637.70%]\n",
       "Cramer [s9] [firstLast] | 1.93e-10 [100.00%] | 3.86e-10 | 5.50 | 52.00 | 85.00 | 0.44 | 84.56 [19306.39%]\n",
       "BC [s9] [firstLast] | 1.00e+00 [100.00%] | 9.72e-12 | 5.50 | 103.00 | 22.00 | 0.24 | 21.76 [8953.50%]\n",
       "KLD [s9] [randomHalf] | 1.87e-01 [84.26%] | 6.95e-10 | 6.00 | 162.00 | 52.00 | 0.06 | 51.94 [89555.17%]\n",
       "Cramer [s9] [randomHalf] | 1.88e-01 [95.23%] | 2.23e-10 | 6.00 | 90.00 | 144.00 | 0.04 | 143.96 [359900.00%]\n",
       "BC [s9] [randomHalf] | 9.52e-01 [81.23%] | 7.46e-10 | 6.00 | 162.00 | 31.00 | 0.02 | 30.98 [147519.05%]\n",
       "KLD [3xl] [all] | 2.16e-07 [100.00%] | 1.13e-10 | 7.50 | 123.00 | 30.00 | 0.02 | 29.98 [149900.00%]\n",
       "Cramer [3xl] [all] | 2.80e-04 [100.00%] | 7.30e-10 | 7.50 | 48.00 | 77.00 | 0.02 | 76.98 [366566.67%]\n",
       "BC [3xl] [all] | 1.00e+00 [99.97%] | 3.46e-10 | 7.50 | 96.00 | 18.00 | 0.01 | 17.99 [179900.00%]\n",
       "KLD [3xl] [firstLast] | 2.50e-11 [100.00%] | 5.01e-11 | 6.00 | 128.00 | 40.00 | 0.80 | 39.20 [4887.53%]\n",
       "Cramer [3xl] [firstLast] | 3.97e-10 [100.00%] | 7.94e-10 | 6.00 | 49.00 | 80.00 | 0.38 | 79.62 [20952.63%]\n",
       "BC [3xl] [firstLast] | 1.00e+00 [100.00%] | 1.59e-10 | 6.00 | 99.00 | 21.00 | 0.22 | 20.78 [9577.42%]\n",
       "KLD [3xl] [randomHalf] | 2.16e-01 [82.23%] | 1.67e-09 | 5.50 | 102.00 | 31.00 | 0.03 | 30.97 [106796.55%]\n",
       "Cramer [3xl] [randomHalf] | 1.51e-01 [94.86%] | 4.36e-11 | 5.50 | 48.00 | 78.00 | 0.02 | 77.98 [354445.45%]\n",
       "BC [3xl] [randomHalf] | 9.49e-01 [84.90%] | 1.70e-10 | 5.50 | 100.00 | 18.00 | 0.02 | 17.98 [112400.00%]"
      ],
      "text/plain": [
       "<IPython.core.display.Markdown object>"
      ]
     },
     "execution_count": 2,
     "metadata": {},
     "output_type": "execute_result"
    }
   ],
   "source": [
    "black_white_10s = \"1_Static_Color/1_Black_White/1_10s/1_100_percent\"\n",
    "verbose_md_table(black_white_10s)"
   ]
  },
  {
   "cell_type": "code",
   "execution_count": 3,
   "metadata": {},
   "outputs": [
    {
     "data": {
      "text/markdown": [
       "Similarity [sys] | Score [%] | Mean Absolute Error | Pre-processing (s) | Encryption (ms) | FHE/Plain Compute Growth (ms) [%]\n",
       "---|---|---|---|---|---\n",
       "KLD [linux] | 1.24e-10 [100.00%] | 2.48e-10 | 0.82 | 25.00 | 8.65 [2493.66%]\n",
       "Cramer [linux] | 7.14e-10 [100.00%] | 1.43e-09 | 0.82 | 11.50 | 18.83 [10819.54%]\n",
       "BC [linux] | 1.00e+00 [100.00%] | 4.78e-10 | 0.82 | 24.00 | 4.92 [5960.61%]\n",
       "KLD [s9] | 2.47e-11 [100.00%] | 4.93e-11 | 7.25 | 149.00 | 54.62 [14222.92%]\n",
       "Cramer [s9] | 3.22e-10 [100.00%] | 6.43e-10 | 7.25 | 75.50 | 119.26 [49691.67%]\n",
       "BC [s9] | 1.00e+00 [100.00%] | 5.14e-11 | 7.25 | 144.50 | 28.37 [21655.73%]\n",
       "KLD [3xl] | 1.08e-07 [100.00%] | 8.18e-11 | 6.75 | 125.50 | 34.59 [8415.82%]\n",
       "Cramer [3xl] | 1.40e-04 [100.00%] | 7.62e-10 | 6.75 | 48.50 | 78.30 [39052.12%]\n",
       "BC [3xl] | 1.00e+00 [99.99%] | 2.53e-10 | 6.75 | 97.50 | 19.39 [17080.62%]"
      ],
      "text/plain": [
       "<IPython.core.display.Markdown object>"
      ]
     },
     "execution_count": 3,
     "metadata": {},
     "output_type": "execute_result"
    }
   ],
   "source": [
    "mean_md_table(black_white_10s, frameCounts=['all', 'firstLast'])"
   ]
  },
  {
   "cell_type": "code",
   "execution_count": 4,
   "metadata": {},
   "outputs": [
    {
     "data": {
      "text/markdown": [
       "Similarity [sys] | Score [%] | Mean Absolute Error | Pre-processing (s) | Encryption (ms) | FHE/Plain Compute Growth (ms) [%]\n",
       "---|---|---|---|---|---\n",
       "KLD [linux] | 3.35e-01 [74.91%] | 5.36e-10 | 0.81 | 23.00 | 6.97 [26823.08%]\n",
       "Cramer [linux] | 2.31e-01 [91.73%] | 3.15e-10 | 0.81 | 12.00 | 18.98 [90376.19%]\n",
       "BC [linux] | 9.17e-01 [76.95%] | 1.85e-10 | 0.81 | 23.00 | 3.98 [26566.67%]\n",
       "KLD [s9] | 1.87e-01 [84.26%] | 6.95e-10 | 6.00 | 162.00 | 51.94 [89555.17%]\n",
       "Cramer [s9] | 1.88e-01 [95.23%] | 2.23e-10 | 6.00 | 90.00 | 143.96 [359900.00%]\n",
       "BC [s9] | 9.52e-01 [81.23%] | 7.46e-10 | 6.00 | 162.00 | 30.98 [147519.05%]\n",
       "KLD [3xl] | 2.16e-01 [82.23%] | 1.67e-09 | 5.50 | 102.00 | 30.97 [106796.55%]\n",
       "Cramer [3xl] | 1.51e-01 [94.86%] | 4.36e-11 | 5.50 | 48.00 | 77.98 [354445.45%]\n",
       "BC [3xl] | 9.49e-01 [84.90%] | 1.70e-10 | 5.50 | 100.00 | 17.98 [112400.00%]"
      ],
      "text/plain": [
       "<IPython.core.display.Markdown object>"
      ]
     },
     "execution_count": 4,
     "metadata": {},
     "output_type": "execute_result"
    }
   ],
   "source": [
    "mean_md_table(black_white_10s, frameCounts=['randomHalf'])"
   ]
  },
  {
   "cell_type": "markdown",
   "metadata": {},
   "source": [
    "### Test 2: 60 second video\n",
    "\n",
    "```bash\n",
    "ffmpeg -f lavfi -i color=c=black:s=1280x720 -c:v libx264 -t 60 -pix_fmt yuv420p -an Black_720p_60s.mp4\n",
    "ffmpeg -f lavfi -i color=c=white:s=1280x720 -c:v libx264 -t 60 -pix_fmt yuv420p -an White_720p_60s.mp4\n",
    "```\n",
    "\n",
    "#### Assertion 2: 100% Similarity\n",
    "> Hypothesis: The score should indicate high similarity between the two videos, as the segment distribution will not change."
   ]
  },
  {
   "cell_type": "code",
   "execution_count": 5,
   "metadata": {},
   "outputs": [
    {
     "data": {
      "text/markdown": [
       "Similarity [sys] [frameCount] | Score [%] | Mean FHE Absolute Error | Pre-processing (s) | Encryption (ms) | FHE Compute (ms) | Plaintext Compute (ms) | FHE/Plain Compute Growth (ms) [%]\n",
       "---|---|---|---|---|---|---|---\n",
       "KLD [linux] [all] | 2.10e-11 [100.00%] | 4.20e-11 | 14.00 | 147.00 | 45.00 | 0.02 | 44.98 [264605.88%]\n",
       "Cramer [linux] [all] | 1.87e-09 [100.00%] | 3.73e-09 | 14.00 | 71.00 | 113.00 | 0.02 | 112.98 [491204.35%]\n",
       "BC [linux] [all] | 1.00e+00 [100.00%] | 2.29e-10 | 14.00 | 142.00 | 28.00 | 0.01 | 27.99 [254445.45%]\n",
       "KLD [linux] [firstLast] | 3.91e-11 [100.00%] | 7.81e-11 | 6.00 | 157.00 | 50.00 | 0.53 | 49.48 [9423.81%]\n",
       "Cramer [linux] [firstLast] | 4.42e-10 [100.00%] | 8.85e-10 | 6.00 | 72.00 | 117.00 | 0.26 | 116.74 [44556.49%]\n",
       "BC [linux] [firstLast] | 1.00e+00 [100.00%] | 1.61e-11 | 6.00 | 146.00 | 31.00 | 0.13 | 30.87 [23746.15%]\n",
       "KLD [s9] [all] | 4.92e-11 [100.00%] | 9.83e-11 | 187.50 | 1110.00 | 344.00 | 0.06 | 343.94 [625354.55%]\n",
       "Cramer [s9] [all] | 5.31e-10 [100.00%] | 1.06e-09 | 187.50 | 556.00 | 876.00 | 0.07 | 875.93 [1199900.00%]\n",
       "BC [s9] [all] | 1.00e+00 [100.00%] | 3.54e-10 | 187.50 | 1132.00 | 205.00 | 0.03 | 204.97 [661190.32%]\n",
       "KLD [s9] [firstLast] | 6.14e-11 [100.00%] | 1.23e-10 | 196.00 | 624.00 | 197.00 | 0.79 | 196.21 [24868.31%]\n",
       "Cramer [s9] [firstLast] | 1.10e-09 [100.00%] | 2.20e-09 | 196.00 | 303.00 | 495.00 | 0.60 | 494.39 [81718.18%]\n",
       "BC [s9] [firstLast] | 1.00e+00 [100.00%] | 8.75e-10 | 196.00 | 591.00 | 119.00 | 0.34 | 118.66 [35107.10%]\n",
       "KLD [3xl] [all] | 1.63e-11 [100.00%] | 3.27e-11 | 161.00 | 966.00 | 300.00 | 0.04 | 299.96 [789373.68%]\n",
       "Cramer [3xl] [all] | 7.43e-10 [100.00%] | 1.49e-09 | 161.00 | 462.00 | 736.00 | 0.05 | 735.95 [1471900.00%]\n",
       "BC [3xl] [all] | 1.00e+00 [100.00%] | 2.09e-10 | 161.00 | 938.00 | 166.00 | 0.02 | 165.98 [691566.67%]\n",
       "KLD [3xl] [firstLast] | 4.23e-11 [100.00%] | 8.46e-11 | 151.00 | 984.00 | 301.00 | 0.05 | 300.95 [590096.08%]\n",
       "Cramer [3xl] [firstLast] | 1.04e-09 [100.00%] | 2.08e-09 | 151.00 | 481.00 | 766.00 | 0.06 | 765.94 [1298205.08%]\n",
       "BC [3xl] [firstLast] | 1.00e+00 [100.00%] | 4.96e-10 | 151.00 | 962.00 | 176.00 | 0.03 | 175.97 [703900.00%]"
      ],
      "text/plain": [
       "<IPython.core.display.Markdown object>"
      ]
     },
     "execution_count": 5,
     "metadata": {},
     "output_type": "execute_result"
    }
   ],
   "source": [
    "black_white_60s = \"1_Static_Color/1_Black_White/2_60s/1_100_percent\"\n",
    "verbose_md_table(black_white_60s, frameCounts=['all', 'firstLast'])"
   ]
  },
  {
   "cell_type": "code",
   "execution_count": 6,
   "metadata": {},
   "outputs": [
    {
     "data": {
      "text/markdown": [
       "Similarity [sys] | Score [%] | Mean Absolute Error | Pre-processing (s) | Encryption (ms) | FHE/Plain Compute Growth (ms) [%]\n",
       "---|---|---|---|---|---\n",
       "KLD [linux] | 3.00e-11 [100.00%] | 6.01e-11 | 10.00 | 152.00 | 47.23 [17427.68%]\n",
       "Cramer [linux] | 1.15e-09 [100.00%] | 2.31e-09 | 10.00 | 71.50 | 114.86 [80601.75%]\n",
       "BC [linux] | 1.00e+00 [100.00%] | 1.23e-10 | 10.00 | 144.00 | 29.43 [41743.97%]\n",
       "KLD [s9] | 5.53e-11 [100.00%] | 1.11e-10 | 191.75 | 867.00 | 270.08 [63999.53%]\n",
       "Cramer [s9] | 8.16e-10 [100.00%] | 1.63e-09 | 191.75 | 429.50 | 685.16 [202112.39%]\n",
       "BC [s9] | 1.00e+00 [100.00%] | 6.14e-10 | 191.75 | 861.50 | 161.82 [87704.88%]\n",
       "KLD [3xl] | 2.93e-11 [100.00%] | 5.86e-11 | 156.00 | 975.00 | 300.46 [675180.90%]\n",
       "Cramer [3xl] | 8.92e-10 [100.00%] | 1.78e-09 | 156.00 | 471.50 | 750.95 [1377881.65%]\n",
       "BC [3xl] | 1.00e+00 [100.00%] | 3.53e-10 | 156.00 | 950.00 | 170.98 [697859.18%]"
      ],
      "text/plain": [
       "<IPython.core.display.Markdown object>"
      ]
     },
     "execution_count": 6,
     "metadata": {},
     "output_type": "execute_result"
    }
   ],
   "source": [
    "mean_md_table(black_white_60s, frameCounts=['all', 'firstLast'])"
   ]
  },
  {
   "cell_type": "code",
   "execution_count": 7,
   "metadata": {},
   "outputs": [
    {
     "data": {
      "text/markdown": [
       "Similarity [sys] | Score [%] | Mean Absolute Error | Pre-processing (s) | Encryption (ms) | FHE/Plain Compute Growth (ms) [%]\n",
       "---|---|---|---|---|---\n",
       "KLD [linux] | 3.58e-01 [73.65%] | 7.07e-09 | 7.50 | 148.00 | 42.98 [226215.79%]\n",
       "Cramer [linux] | 2.19e-01 [91.91%] | 2.95e-10 | 7.50 | 71.00 | 111.97 [329311.76%]\n",
       "BC [linux] | 9.19e-01 [78.12%] | 8.04e-10 | 7.50 | 141.00 | 28.99 [241566.67%]\n",
       "KLD [s9] | 2.86e-01 [77.76%] | 7.65e-09 | 187.50 | 1191.00 | 371.94 [581150.00%]\n",
       "Cramer [s9] | 2.91e-01 [93.10%] | 5.50e-10 | 187.50 | 593.00 | 933.93 [1279352.05%]\n",
       "BC [s9] | 9.31e-01 [70.93%] | 4.81e-10 | 187.50 | 1193.00 | 214.97 [716566.67%]\n",
       "KLD [3xl] | 4.10e-01 [70.90%] | 6.05e-09 | 153.00 | 936.00 | 281.96 [704900.00%]\n",
       "Cramer [3xl] | 2.86e-01 [90.29%] | 6.67e-10 | 153.00 | 434.00 | 687.95 [1273974.07%]\n",
       "BC [3xl] | 9.03e-01 [71.37%] | 1.55e-11 | 153.00 | 901.00 | 156.98 [654066.67%]"
      ],
      "text/plain": [
       "<IPython.core.display.Markdown object>"
      ]
     },
     "execution_count": 7,
     "metadata": {},
     "output_type": "execute_result"
    }
   ],
   "source": [
    "mean_md_table(black_white_60s, frameCounts=['randomHalf'])"
   ]
  },
  {
   "cell_type": "markdown",
   "metadata": {},
   "source": []
  },
  {
   "cell_type": "markdown",
   "metadata": {},
   "source": [
    "# Experiment 2: RGB Color from YouTube\n",
    "\n",
    "Source: https://www.youtube.com/watch?v=LT-oNf3A7IU (Nguyen, Johnny 2017)"
   ]
  },
  {
   "cell_type": "markdown",
   "metadata": {},
   "source": [
    "## Scenario 1: Fade Single Color\n",
    "\n",
    "Duration: 5 minutes, 8 seconds\n",
    "\n",
    "Fade a single color, every 15 seconds consisting of 6 colors in total."
   ]
  },
  {
   "cell_type": "markdown",
   "metadata": {},
   "source": [
    "### Test 1: Alignment\n",
    "\n",
    "Compare different segments of the same video to determine the impact of trimming on the similarity score."
   ]
  },
  {
   "cell_type": "markdown",
   "metadata": {},
   "source": [
    "#### Assertion 1: First 14s vs. Next 14s\n",
    "\n",
    "> Hypothesis: The same frames are repeated every 15 seconds, so these segments should be identical."
   ]
  },
  {
   "cell_type": "code",
   "execution_count": 8,
   "metadata": {},
   "outputs": [
    {
     "data": {
      "text/markdown": [
       "Similarity [sys] [frameCount] | Score [%] | Mean FHE Absolute Error | Pre-processing (s) | Encryption (ms) | FHE Compute (ms) | Plaintext Compute (ms) | FHE/Plain Compute Growth (ms) [%]\n",
       "---|---|---|---|---|---|---|---\n",
       "KLD [linux] [all] | 5.69e-03 [99.43%] | 5.65e-10 | 3.00 | 33.00 | 10.00 | 0.05 | 9.95 [20733.33%]\n",
       "Cramer [linux] [all] | 4.43e-02 [99.86%] | 8.03e-10 | 3.00 | 16.00 | 25.00 | 0.02 | 24.98 [118947.62%]\n",
       "BC [linux] [all] | 9.99e-01 [95.57%] | 1.50e-09 | 3.00 | 33.00 | 6.00 | 0.01 | 5.99 [74900.00%]\n",
       "KLD [linux] [firstLast] | 2.09e-02 [97.96%] | 2.86e-10 | 0.97 | 33.00 | 11.00 | 0.35 | 10.65 [3033.90%]\n",
       "Cramer [linux] [firstLast] | 9.52e-02 [99.47%] | 3.31e-10 | 0.97 | 16.00 | 26.00 | 0.16 | 25.84 [15949.38%]\n",
       "BC [linux] [firstLast] | 9.95e-01 [90.48%] | 1.53e-10 | 0.97 | 33.00 | 6.00 | 0.08 | 5.92 [7042.86%]"
      ],
      "text/plain": [
       "<IPython.core.display.Markdown object>"
      ]
     },
     "execution_count": 8,
     "metadata": {},
     "output_type": "execute_result"
    }
   ],
   "source": [
    "rgb_fade_single_14s = \"2_YT_RGB/1_Single_Fade/1_Alignment/1_First_14s_Next_14s\"\n",
    "verbose_md_table(rgb_fade_single_14s, frameCounts=['all', 'firstLast'])"
   ]
  },
  {
   "cell_type": "code",
   "execution_count": 9,
   "metadata": {},
   "outputs": [
    {
     "data": {
      "text/markdown": [
       "Similarity [sys] | Score [%] | Mean Absolute Error | Pre-processing (s) | Encryption (ms) | FHE/Plain Compute Growth (ms) [%]\n",
       "---|---|---|---|---|---\n",
       "KLD [linux] | 2.02e-01 [83.16%] | 1.31e-09 | 1.66 | 34.67 | 9.86 [7009.00%]\n",
       "Cramer [linux] | 1.92e-01 [95.83%] | 5.36e-10 | 1.66 | 16.00 | 25.27 [37338.42%]\n",
       "BC [linux] | 9.58e-01 [80.80%] | 7.02e-10 | 1.66 | 32.67 | 5.97 [17547.06%]"
      ],
      "text/plain": [
       "<IPython.core.display.Markdown object>"
      ]
     },
     "execution_count": 9,
     "metadata": {},
     "output_type": "execute_result"
    }
   ],
   "source": [
    "mean_md_table(rgb_fade_single_14s)"
   ]
  },
  {
   "cell_type": "markdown",
   "metadata": {},
   "source": [
    "#### Assertion 2: Offset by 2s of 14s segments\n",
    "\n",
    "> Hypothesis: The single color offset should slightly reduce the similarity score from the previous assertion."
   ]
  },
  {
   "cell_type": "code",
   "execution_count": 10,
   "metadata": {},
   "outputs": [
    {
     "data": {
      "text/markdown": [
       "Similarity [sys] [frameCount] | Score [%] | Mean FHE Absolute Error | Pre-processing (s) | Encryption (ms) | FHE Compute (ms) | Plaintext Compute (ms) | FHE/Plain Compute Growth (ms) [%]\n",
       "---|---|---|---|---|---|---|---\n",
       "KLD [linux] [all] | 3.32e-03 [99.67%] | 2.00e-10 | 3.00 | 32.00 | 9.00 | 0.02 | 8.98 [42757.14%]\n",
       "Cramer [linux] [all] | 5.07e-02 [99.92%] | 7.98e-10 | 3.00 | 16.00 | 26.00 | 0.02 | 25.98 [129900.00%]\n",
       "BC [linux] [all] | 9.99e-01 [94.93%] | 1.69e-10 | 3.00 | 32.00 | 6.00 | 0.01 | 5.99 [59900.00%]\n",
       "KLD [linux] [firstLast] | 3.06e-02 [97.03%] | 4.46e-10 | 0.93 | 32.00 | 10.00 | 0.03 | 9.97 [38361.54%]\n",
       "Cramer [linux] [firstLast] | 9.52e-02 [99.25%] | 4.15e-10 | 0.93 | 16.00 | 25.00 | 0.03 | 24.97 [83233.33%]\n",
       "BC [linux] [firstLast] | 9.93e-01 [90.48%] | 1.28e-10 | 0.93 | 32.00 | 6.00 | 0.01 | 5.99 [49900.00%]\n",
       "KLD [linux] [randomHalf] | 4.06e-01 [71.13%] | 2.24e-09 | 1.00 | 33.00 | 9.00 | 0.04 | 8.96 [21328.57%]\n",
       "Cramer [linux] [randomHalf] | 4.06e-01 [91.45%] | 3.84e-10 | 1.00 | 18.00 | 27.00 | 0.02 | 26.98 [134900.00%]\n",
       "BC [linux] [randomHalf] | 9.15e-01 [59.39%] | 1.47e-09 | 1.00 | 33.00 | 6.00 | 0.01 | 5.99 [49900.00%]"
      ],
      "text/plain": [
       "<IPython.core.display.Markdown object>"
      ]
     },
     "execution_count": 10,
     "metadata": {},
     "output_type": "execute_result"
    }
   ],
   "source": [
    "rgb_fade_single_offset_2s = \"2_YT_RGB/1_Single_Fade/1_Alignment/2_Offset_2s_of_14s\"\n",
    "verbose_md_table(rgb_fade_single_offset_2s)"
   ]
  },
  {
   "cell_type": "code",
   "execution_count": 11,
   "metadata": {},
   "outputs": [
    {
     "data": {
      "text/markdown": [
       "Similarity [sys] | Score [%] | Mean Absolute Error | Pre-processing (s) | Encryption (ms) | FHE/Plain Compute Growth (ms) [%]\n",
       "---|---|---|---|---|---\n",
       "KLD [linux] | 1.47e-01 [87.21%] | 9.63e-10 | 1.64 | 32.33 | 9.30 [31360.67%]\n",
       "Cramer [linux] | 1.84e-01 [96.87%] | 5.32e-10 | 1.64 | 16.67 | 25.98 [111328.57%]\n",
       "BC [linux] | 9.69e-01 [81.60%] | 5.90e-10 | 1.64 | 32.33 | 5.99 [52841.18%]"
      ],
      "text/plain": [
       "<IPython.core.display.Markdown object>"
      ]
     },
     "execution_count": 11,
     "metadata": {},
     "output_type": "execute_result"
    }
   ],
   "source": [
    "mean_md_table(rgb_fade_single_offset_2s)"
   ]
  },
  {
   "cell_type": "markdown",
   "metadata": {},
   "source": [
    "##### Assertion 3: First 7s vs. Next 7s\n",
    "\n",
    "> Hypothesis: Comparing different colors should slightly reduce the similarity score from the previous assertions."
   ]
  },
  {
   "cell_type": "code",
   "execution_count": 12,
   "metadata": {},
   "outputs": [
    {
     "data": {
      "text/markdown": [
       "Similarity [sys] [frameCount] | Score [%] | Mean FHE Absolute Error | Pre-processing (s) | Encryption (ms) | FHE Compute (ms) | Plaintext Compute (ms) | FHE/Plain Compute Growth (ms) [%]\n",
       "---|---|---|---|---|---|---|---\n",
       "KLD [linux] [all] | 6.09e-03 [99.40%] | 1.77e-10 | 1.00 | 24.00 | 5.00 | 0.02 | 4.98 [27677.78%]\n",
       "Cramer [linux] [all] | 9.18e-02 [99.85%] | 1.64e-10 | 1.00 | 8.00 | 12.00 | 0.05 | 11.95 [23900.00%]\n",
       "BC [linux] [all] | 9.98e-01 [90.82%] | 3.56e-10 | 1.00 | 16.00 | 3.00 | 0.01 | 2.99 [33233.33%]\n",
       "KLD [linux] [firstLast] | 2.31e-02 [97.74%] | 2.16e-10 | 0.57 | 16.00 | 5.00 | 0.02 | 4.98 [26215.79%]\n",
       "Cramer [linux] [firstLast] | 1.38e-01 [99.43%] | 4.68e-10 | 0.57 | 8.00 | 13.00 | 0.02 | 12.98 [72122.22%]\n",
       "BC [linux] [firstLast] | 9.94e-01 [86.23%] | 4.64e-10 | 0.57 | 16.00 | 3.00 | 0.01 | 2.99 [29900.00%]\n",
       "KLD [linux] [randomHalf] | 3.16e-01 [75.96%] | 4.11e-09 | 0.80 | 16.00 | 4.00 | 0.03 | 3.97 [15284.62%]\n",
       "Cramer [linux] [randomHalf] | 3.01e-01 [92.51%] | 3.89e-10 | 0.80 | 8.00 | 13.00 | 0.03 | 12.97 [48048.15%]\n",
       "BC [linux] [randomHalf] | 9.25e-01 [69.93%] | 9.01e-12 | 0.80 | 16.00 | 3.00 | 0.01 | 2.99 [21328.57%]"
      ],
      "text/plain": [
       "<IPython.core.display.Markdown object>"
      ]
     },
     "execution_count": 12,
     "metadata": {},
     "output_type": "execute_result"
    }
   ],
   "source": [
    "rgb_fade_single_7s = \"2_YT_RGB/1_Single_Fade/1_Alignment/3_First_7s_Next_7s\"\n",
    "verbose_md_table(rgb_fade_single_7s)"
   ]
  },
  {
   "cell_type": "code",
   "execution_count": 13,
   "metadata": {},
   "outputs": [
    {
     "data": {
      "text/markdown": [
       "Similarity [sys] | Score [%] | Mean Absolute Error | Pre-processing (s) | Encryption (ms) | FHE/Plain Compute Growth (ms) [%]\n",
       "---|---|---|---|---|---\n",
       "KLD [linux] | 1.15e-01 [89.67%] | 1.50e-09 | 0.79 | 18.67 | 4.65 [22122.22%]\n",
       "Cramer [linux] | 1.77e-01 [97.26%] | 3.40e-10 | 0.79 | 8.00 | 12.63 [39900.00%]\n",
       "BC [linux] | 9.73e-01 [82.33%] | 2.76e-10 | 0.79 | 16.00 | 2.99 [27172.73%]"
      ],
      "text/plain": [
       "<IPython.core.display.Markdown object>"
      ]
     },
     "execution_count": 13,
     "metadata": {},
     "output_type": "execute_result"
    }
   ],
   "source": [
    "mean_md_table(rgb_fade_single_7s)"
   ]
  },
  {
   "cell_type": "markdown",
   "metadata": {},
   "source": [
    "### Test 2: Compare to Static Color\n",
    "\n",
    "Compare a static color to a fading color to determine the similarity score between the two."
   ]
  },
  {
   "cell_type": "markdown",
   "metadata": {},
   "source": [
    "##### Assertion 1: Black 10s\n",
    "\n",
    "> Hypothesis: The score should indicate low similarity, as static color will have little variation, while the fading color will have a changing distribution."
   ]
  },
  {
   "cell_type": "code",
   "execution_count": 14,
   "metadata": {},
   "outputs": [
    {
     "data": {
      "text/markdown": [
       "Similarity [sys] [frameCount] | Score [%] | Mean FHE Absolute Error | Pre-processing (s) | Encryption (ms) | FHE Compute (ms) | Plaintext Compute (ms) | FHE/Plain Compute Growth (ms) [%]\n",
       "---|---|---|---|---|---|---|---\n",
       "KLD [linux] [all] | 2.65e-02 [97.42%] | 1.06e-09 | 1.50 | 28.00 | 8.00 | 0.02 | 7.98 [34682.61%]\n",
       "Cramer [linux] [all] | 1.73e-01 [99.27%] | 1.01e-09 | 1.50 | 11.00 | 20.00 | 0.02 | 19.98 [99900.00%]\n",
       "BC [linux] [all] | 9.93e-01 [82.73%] | 1.89e-10 | 1.50 | 24.00 | 5.00 | 0.01 | 4.99 [55455.56%]\n",
       "KLD [linux] [firstLast] | 4.88e-02 [95.34%] | 3.76e-09 | 0.54 | 30.00 | 10.00 | 0.81 | 9.19 [1134.57%]\n",
       "Cramer [linux] [firstLast] | 2.49e-01 [98.66%] | 1.07e-11 | 0.54 | 12.00 | 20.00 | 0.25 | 19.75 [7900.00%]\n",
       "BC [linux] [firstLast] | 9.87e-01 [75.13%] | 5.36e-10 | 0.54 | 24.00 | 6.00 | 0.13 | 5.87 [4445.45%]\n",
       "KLD [linux] [randomHalf] | 1.17e-01 [89.49%] | 2.79e-09 | 0.77 | 24.00 | 8.00 | 0.02 | 7.98 [33233.33%]\n",
       "Cramer [linux] [randomHalf] | 3.64e-01 [97.03%] | 7.65e-10 | 0.77 | 12.00 | 19.00 | 0.03 | 18.97 [67757.14%]\n",
       "BC [linux] [randomHalf] | 9.70e-01 [63.57%] | 6.42e-11 | 0.77 | 24.00 | 5.00 | 0.01 | 4.99 [55455.56%]"
      ],
      "text/plain": [
       "<IPython.core.display.Markdown object>"
      ]
     },
     "execution_count": 14,
     "metadata": {},
     "output_type": "execute_result"
    }
   ],
   "source": [
    "rgb_fade_single_10s_black = \"2_YT_RGB/1_Single_Fade/2_Compare_Static/1_Black_10s\"\n",
    "verbose_md_table(rgb_fade_single_10s_black)"
   ]
  },
  {
   "cell_type": "code",
   "execution_count": 15,
   "metadata": {},
   "outputs": [
    {
     "data": {
      "text/markdown": [
       "Similarity [sys] | Score [%] | Mean Absolute Error | Pre-processing (s) | Encryption (ms) | FHE/Plain Compute Growth (ms) [%]\n",
       "---|---|---|---|---|---\n",
       "KLD [linux] | 6.43e-02 [93.96%] | 2.53e-09 | 0.94 | 27.33 | 8.38 [2933.84%]\n",
       "Cramer [linux] | 2.62e-01 [98.32%] | 5.95e-10 | 0.94 | 11.67 | 19.57 [19698.66%]\n",
       "BC [linux] | 9.83e-01 [73.81%] | 2.63e-10 | 0.94 | 24.00 | 5.28 [10566.67%]"
      ],
      "text/plain": [
       "<IPython.core.display.Markdown object>"
      ]
     },
     "execution_count": 15,
     "metadata": {},
     "output_type": "execute_result"
    }
   ],
   "source": [
    "mean_md_table(rgb_fade_single_10s_black)"
   ]
  },
  {
   "cell_type": "markdown",
   "metadata": {},
   "source": [
    "##### Assertion 2: White 10s\n",
    "\n",
    "> Hypothesis: The score should match the previous assertion, as the distribution of the static color is the same."
   ]
  },
  {
   "cell_type": "code",
   "execution_count": 16,
   "metadata": {},
   "outputs": [
    {
     "data": {
      "text/markdown": [
       "Similarity [sys] [frameCount] | Score [%] | Mean FHE Absolute Error | Pre-processing (s) | Encryption (ms) | FHE Compute (ms) | Plaintext Compute (ms) | FHE/Plain Compute Growth (ms) [%]\n",
       "---|---|---|---|---|---|---|---\n",
       "KLD [linux] [all] | 2.06e-02 [97.98%] | 8.01e-10 | 2.00 | 64.00 | 19.00 | 0.06 | 18.94 [30545.16%]\n",
       "Cramer [linux] [all] | 1.61e-01 [99.46%] | 1.63e-09 | 2.00 | 29.00 | 47.00 | 0.06 | 46.94 [83828.57%]\n",
       "BC [linux] [all] | 9.95e-01 [83.90%] | 2.12e-09 | 2.00 | 56.00 | 12.00 | 0.03 | 11.97 [44344.44%]\n",
       "KLD [linux] [firstLast] | 2.53e-02 [97.53%] | 5.48e-10 | 0.67 | 29.00 | 10.00 | 0.03 | 9.97 [32158.06%]\n",
       "Cramer [linux] [firstLast] | 1.79e-01 [99.34%] | 7.06e-10 | 0.67 | 15.00 | 24.00 | 0.03 | 23.98 [95900.00%]\n",
       "BC [linux] [firstLast] | 9.93e-01 [82.09%] | 1.32e-09 | 0.67 | 28.00 | 6.00 | 0.01 | 5.99 [49900.00%]\n",
       "KLD [linux] [randomHalf] | 3.20e-02 [96.90%] | 8.21e-10 | 0.94 | 100.00 | 28.00 | 0.10 | 27.90 [28765.98%]\n",
       "Cramer [linux] [randomHalf] | 1.46e-01 [99.17%] | 2.26e-09 | 0.94 | 43.00 | 69.00 | 0.08 | 68.92 [86150.00%]\n",
       "BC [linux] [randomHalf] | 9.92e-01 [85.42%] | 5.54e-09 | 0.94 | 84.00 | 18.00 | 0.05 | 17.95 [35900.00%]"
      ],
      "text/plain": [
       "<IPython.core.display.Markdown object>"
      ]
     },
     "execution_count": 16,
     "metadata": {},
     "output_type": "execute_result"
    }
   ],
   "source": [
    "rgb_fade_single_10s_white = \"2_YT_RGB/1_Single_Fade/2_Compare_Static/2_White_10s\"\n",
    "verbose_md_table(rgb_fade_single_10s_white)"
   ]
  },
  {
   "cell_type": "code",
   "execution_count": 17,
   "metadata": {},
   "outputs": [
    {
     "data": {
      "text/markdown": [
       "Similarity [sys] | Score [%] | Mean Absolute Error | Pre-processing (s) | Encryption (ms) | FHE/Plain Compute Growth (ms) [%]\n",
       "---|---|---|---|---|---\n",
       "KLD [linux] | 2.60e-02 [97.47%] | 7.23e-10 | 1.20 | 64.33 | 18.94 [29900.00%]\n",
       "Cramer [linux] | 1.62e-01 [99.32%] | 1.53e-09 | 1.20 | 29.00 | 46.61 [86856.52%]\n",
       "BC [linux] | 9.93e-01 [83.80%] | 2.99e-09 | 1.20 | 56.00 | 11.97 [40349.44%]"
      ],
      "text/plain": [
       "<IPython.core.display.Markdown object>"
      ]
     },
     "execution_count": 17,
     "metadata": {},
     "output_type": "execute_result"
    }
   ],
   "source": [
    "mean_md_table(rgb_fade_single_10s_white)"
   ]
  },
  {
   "cell_type": "markdown",
   "metadata": {},
   "source": [
    "## Scenario 2: Moving Single Color\n",
    "\n",
    "Duration: 5 minutes, 50 seconds\n",
    "\n",
    "Moving bars of single colors, moving right every 2 seconds."
   ]
  },
  {
   "cell_type": "markdown",
   "metadata": {},
   "source": [
    "### Test 1: Alignment\n",
    "\n",
    "Compare different segments of the same video to determine the impact of trimming on the similarity score."
   ]
  },
  {
   "cell_type": "markdown",
   "metadata": {},
   "source": [
    "#### Assertion 1: First 100s vs. Next 100s\n",
    "\n",
    "> Hypothesis: The bars move at the same pace every 2 seconds, so these distributions should be identical."
   ]
  },
  {
   "cell_type": "code",
   "execution_count": 18,
   "metadata": {},
   "outputs": [
    {
     "data": {
      "text/markdown": [
       "Similarity [sys] [frameCount] | Score [%] | Mean FHE Absolute Error | Pre-processing (s) | Encryption (ms) | FHE Compute (ms) | Plaintext Compute (ms) | FHE/Plain Compute Growth (ms) [%]\n",
       "---|---|---|---|---|---|---|---\n",
       "KLD [linux] [all] | 2.85e-01 [77.83%] | 2.25e-08 | 54.00 | 237.00 | 71.00 | 0.02 | 70.98 [308595.65%]\n",
       "Cramer [linux] [all] | 8.19e-01 [92.93%] | 6.53e-11 | 54.00 | 119.00 | 186.00 | 0.03 | 185.97 [599900.00%]\n",
       "BC [linux] [all] | 9.29e-01 [18.10%] | 2.32e-09 | 54.00 | 238.00 | 47.00 | 0.01 | 46.99 [427172.73%]\n",
       "KLD [linux] [firstLast] | 2.84e-01 [77.90%] | 1.05e-08 | 35.50 | 238.00 | 80.00 | 0.34 | 79.66 [23291.81%]\n",
       "Cramer [linux] [firstLast] | 8.04e-01 [92.99%] | 3.94e-10 | 35.50 | 120.00 | 190.00 | 0.33 | 189.67 [56957.06%]\n",
       "BC [linux] [firstLast] | 9.30e-01 [19.63%] | 9.21e-11 | 35.50 | 241.00 | 50.00 | 0.08 | 49.92 [60140.96%]\n",
       "KLD [linux] [randomHalf] | 7.63e-01 [56.72%] | 1.71e-08 | 40.50 | 246.00 | 69.00 | 0.02 | 68.98 [344900.00%]\n",
       "Cramer [linux] [randomHalf] | 9.32e-01 [82.12%] | 2.64e-09 | 40.50 | 117.00 | 184.00 | 0.03 | 183.97 [541076.47%]\n",
       "BC [linux] [randomHalf] | 8.21e-01 [6.78%] | 1.06e-09 | 40.50 | 234.00 | 47.00 | 0.01 | 46.99 [335614.29%]"
      ],
      "text/plain": [
       "<IPython.core.display.Markdown object>"
      ]
     },
     "execution_count": 18,
     "metadata": {},
     "output_type": "execute_result"
    }
   ],
   "source": [
    "rgb_moving_single_100s = \"2_YT_RGB/2_Single_Moving/1_Alignment/1_First_100s_Next_100s\"\n",
    "verbose_md_table(rgb_moving_single_100s)"
   ]
  },
  {
   "cell_type": "code",
   "execution_count": 19,
   "metadata": {},
   "outputs": [
    {
     "data": {
      "text/markdown": [
       "Similarity [sys] | Score [%] | Mean Absolute Error | Pre-processing (s) | Encryption (ms) | FHE/Plain Compute Growth (ms) [%]\n",
       "---|---|---|---|---|---\n",
       "KLD [linux] | 4.44e-01 [69.26%] | 1.67e-08 | 43.33 | 240.33 | 73.20 [57042.86%]\n",
       "Cramer [linux] | 8.52e-01 [89.34%] | 1.03e-09 | 43.33 | 118.67 | 186.53 [140603.52%]\n",
       "BC [linux] | 8.93e-01 [14.84%] | 1.16e-09 | 43.33 | 237.67 | 47.96 [133233.33%]"
      ],
      "text/plain": [
       "<IPython.core.display.Markdown object>"
      ]
     },
     "execution_count": 19,
     "metadata": {},
     "output_type": "execute_result"
    }
   ],
   "source": [
    "mean_md_table(rgb_moving_single_100s)"
   ]
  },
  {
   "cell_type": "markdown",
   "metadata": {},
   "source": [
    "#### Assertion 2: Offset by 2s of 100s segments\n",
    "\n",
    "> Hypothesis: The moving bars offset should slightly reduce the similarity score from the previous assertion."
   ]
  },
  {
   "cell_type": "code",
   "execution_count": 20,
   "metadata": {},
   "outputs": [
    {
     "data": {
      "text/markdown": [
       "Similarity [sys] [frameCount] | Score [%] | Mean FHE Absolute Error | Pre-processing (s) | Encryption (ms) | FHE Compute (ms) | Plaintext Compute (ms) | FHE/Plain Compute Growth (ms) [%]\n",
       "---|---|---|---|---|---|---|---\n",
       "KLD [linux] [all] | 2.83e-01 [77.95%] | 9.82e-09 | 53.50 | 240.00 | 67.00 | 0.02 | 66.98 [372122.22%]\n",
       "Cramer [linux] [all] | 8.05e-01 [92.96%] | 2.37e-10 | 53.50 | 118.00 | 184.00 | 0.03 | 183.97 [707592.31%]\n",
       "BC [linux] [all] | 9.30e-01 [19.47%] | 1.42e-11 | 53.50 | 234.00 | 48.00 | 0.01 | 47.99 [399900.00%]\n",
       "KLD [linux] [firstLast] | 2.82e-01 [77.99%] | 1.48e-08 | 37.50 | 248.00 | 71.00 | 0.02 | 70.98 [354900.00%]\n",
       "Cramer [linux] [firstLast] | 7.92e-01 [93.01%] | 1.09e-09 | 37.50 | 122.00 | 189.00 | 0.02 | 188.98 [787400.00%]\n",
       "BC [linux] [firstLast] | 9.30e-01 [20.78%] | 2.55e-09 | 37.50 | 242.00 | 50.00 | 0.01 | 49.99 [499900.00%]\n",
       "KLD [linux] [randomHalf] | 6.41e-01 [60.94%] | 6.64e-09 | 41.00 | 240.00 | 68.00 | 0.03 | 67.97 [271900.00%]\n",
       "Cramer [linux] [randomHalf] | 7.89e-01 [85.50%] | 1.61e-10 | 41.00 | 117.00 | 182.00 | 0.02 | 181.98 [758233.33%]\n",
       "BC [linux] [randomHalf] | 8.55e-01 [21.10%] | 5.25e-10 | 41.00 | 233.00 | 48.00 | 0.01 | 47.99 [399900.00%]"
      ],
      "text/plain": [
       "<IPython.core.display.Markdown object>"
      ]
     },
     "execution_count": 20,
     "metadata": {},
     "output_type": "execute_result"
    }
   ],
   "source": [
    "rgb_moving_single_100s_offset_2s = \"2_YT_RGB/2_Single_Moving/1_Alignment/2_Offset_2s_of_100s\"\n",
    "verbose_md_table(rgb_moving_single_100s_offset_2s)"
   ]
  },
  {
   "cell_type": "code",
   "execution_count": 21,
   "metadata": {},
   "outputs": [
    {
     "data": {
      "text/markdown": [
       "Similarity [sys] | Score [%] | Mean Absolute Error | Pre-processing (s) | Encryption (ms) | FHE/Plain Compute Growth (ms) [%]\n",
       "---|---|---|---|---|---\n",
       "KLD [linux] | 4.02e-01 [71.33%] | 1.04e-08 | 44.00 | 242.67 | 68.65 [326884.13%]\n",
       "Cramer [linux] | 7.95e-01 [90.49%] | 4.95e-10 | 44.00 | 119.00 | 184.98 [749900.00%]\n",
       "BC [linux] | 9.05e-01 [20.45%] | 1.03e-09 | 44.00 | 236.33 | 48.66 [429311.76%]"
      ],
      "text/plain": [
       "<IPython.core.display.Markdown object>"
      ]
     },
     "execution_count": 21,
     "metadata": {},
     "output_type": "execute_result"
    }
   ],
   "source": [
    "mean_md_table(rgb_moving_single_100s_offset_2s)"
   ]
  },
  {
   "cell_type": "markdown",
   "metadata": {},
   "source": [
    "### Test 2: Compare to Static Color\n",
    "\n",
    "Compare a static color to moving bars to determine the similarity score between the two."
   ]
  },
  {
   "cell_type": "markdown",
   "metadata": {},
   "source": [
    "#### Assertion 1: Black 100s\n",
    "\n",
    "> Hypothesis: The score should indicate low similarity, as static color will have little variation, while the moving bars will have a changing distribution."
   ]
  },
  {
   "cell_type": "code",
   "execution_count": 22,
   "metadata": {},
   "outputs": [
    {
     "data": {
      "text/markdown": [
       "Similarity [sys] [frameCount] | Score [%] | Mean FHE Absolute Error | Pre-processing (s) | Encryption (ms) | FHE Compute (ms) | Plaintext Compute (ms) | FHE/Plain Compute Growth (ms) [%]\n",
       "---|---|---|---|---|---|---|---\n",
       "KLD [linux] [all] | 1.17e-01 [89.54%] | 2.43e-11 | 29.00 | 242.00 | 69.00 | 0.02 | 68.98 [405782.35%]\n",
       "Cramer [linux] [all] | 4.41e-01 [96.99%] | 3.51e-10 | 29.00 | 123.00 | 187.00 | 0.02 | 186.98 [890376.19%]\n",
       "BC [linux] [all] | 9.70e-01 [55.95%] | 1.14e-09 | 29.00 | 242.00 | 47.00 | 0.01 | 46.99 [783233.33%]\n",
       "KLD [linux] [firstLast] | 1.29e-01 [88.55%] | 1.49e-09 | 17.00 | 235.00 | 69.00 | 0.02 | 68.98 [431150.00%]\n",
       "Cramer [linux] [firstLast] | 4.62e-01 [96.66%] | 1.20e-09 | 17.00 | 118.00 | 182.00 | 0.02 | 181.98 [758233.33%]\n",
       "BC [linux] [firstLast] | 9.67e-01 [53.82%] | 3.13e-10 | 17.00 | 236.00 | 46.00 | 0.01 | 45.99 [657042.86%]\n",
       "KLD [linux] [randomHalf] | 4.78e-01 [67.65%] | 9.22e-09 | 20.00 | 238.00 | 70.00 | 0.01 | 69.99 [999900.00%]\n",
       "Cramer [linux] [randomHalf] | 5.54e-01 [88.80%] | 4.39e-10 | 20.00 | 126.00 | 192.00 | 0.03 | 191.97 [738361.54%]\n",
       "BC [linux] [randomHalf] | 8.88e-01 [44.59%] | 4.08e-10 | 20.00 | 240.00 | 48.00 | 0.00 | 48.00 [4799900.00%]"
      ],
      "text/plain": [
       "<IPython.core.display.Markdown object>"
      ]
     },
     "execution_count": 22,
     "metadata": {},
     "output_type": "execute_result"
    }
   ],
   "source": [
    "rgb_moving_single_100s_black = \"2_YT_RGB/2_Single_Moving/2_Compare_Static/1_Black_100s\"\n",
    "verbose_md_table(rgb_moving_single_100s_black)"
   ]
  },
  {
   "cell_type": "code",
   "execution_count": 23,
   "metadata": {},
   "outputs": [
    {
     "data": {
      "text/markdown": [
       "Similarity [sys] | Score [%] | Mean Absolute Error | Pre-processing (s) | Encryption (ms) | FHE/Plain Compute Growth (ms) [%]\n",
       "---|---|---|---|---|---\n",
       "KLD [linux] | 2.41e-01 [80.55%] | 3.58e-09 | 22.00 | 238.33 | 69.32 [519900.00%]\n",
       "Cramer [linux] | 4.85e-01 [94.15%] | 6.64e-10 | 22.00 | 122.33 | 186.98 [790040.85%]\n",
       "BC [linux] | 9.42e-01 [51.45%] | 6.20e-10 | 22.00 | 239.33 | 47.00 [1007042.86%]"
      ],
      "text/plain": [
       "<IPython.core.display.Markdown object>"
      ]
     },
     "execution_count": 23,
     "metadata": {},
     "output_type": "execute_result"
    }
   ],
   "source": [
    "mean_md_table(rgb_moving_single_100s_black)"
   ]
  },
  {
   "cell_type": "markdown",
   "metadata": {},
   "source": [
    "#### Assertion 2: White 100s\n",
    "\n",
    "> Hypothesis: The score should match the previous assertion, as the distribution of the static color is the same."
   ]
  },
  {
   "cell_type": "code",
   "execution_count": 24,
   "metadata": {},
   "outputs": [
    {
     "data": {
      "text/markdown": [
       "Similarity [sys] [frameCount] | Score [%] | Mean FHE Absolute Error | Pre-processing (s) | Encryption (ms) | FHE Compute (ms) | Plaintext Compute (ms) | FHE/Plain Compute Growth (ms) [%]\n",
       "---|---|---|---|---|---|---|---\n",
       "KLD [linux] [all] | 1.17e-01 [89.54%] | 8.66e-09 | 30.00 | 238.00 | 68.00 | 0.02 | 67.98 [357794.74%]\n",
       "Cramer [linux] [all] | 4.41e-01 [96.99%] | 1.46e-09 | 30.00 | 118.00 | 183.00 | 0.02 | 182.98 [871328.57%]\n",
       "BC [linux] [all] | 9.70e-01 [55.95%] | 1.30e-09 | 30.00 | 238.00 | 47.00 | 0.01 | 46.99 [427172.73%]\n",
       "KLD [linux] [firstLast] | 1.29e-01 [88.55%] | 5.88e-10 | 17.00 | 238.00 | 68.00 | 0.02 | 67.98 [357794.74%]\n",
       "Cramer [linux] [firstLast] | 4.62e-01 [96.66%] | 6.97e-10 | 17.00 | 119.00 | 185.00 | 0.02 | 184.98 [840809.09%]\n",
       "BC [linux] [firstLast] | 9.67e-01 [53.82%] | 2.08e-10 | 17.00 | 252.00 | 48.00 | 0.01 | 47.99 [369130.77%]\n",
       "KLD [linux] [randomHalf] | 4.38e-01 [69.56%] | 2.76e-08 | 19.00 | 235.00 | 69.00 | 0.02 | 68.98 [383233.33%]\n",
       "Cramer [linux] [randomHalf] | 5.42e-01 [89.47%] | 1.59e-10 | 19.00 | 121.00 | 188.00 | 0.02 | 187.98 [1105782.35%]\n",
       "BC [linux] [randomHalf] | 8.95e-01 [45.81%] | 2.45e-09 | 19.00 | 236.00 | 47.00 | 0.01 | 46.99 [939900.00%]"
      ],
      "text/plain": [
       "<IPython.core.display.Markdown object>"
      ]
     },
     "execution_count": 24,
     "metadata": {},
     "output_type": "execute_result"
    }
   ],
   "source": [
    "rgb_moving_single_100s_white = \"2_YT_RGB/2_Single_Moving/2_Compare_Static/2_White_100s\"\n",
    "verbose_md_table(rgb_moving_single_100s_white)"
   ]
  },
  {
   "cell_type": "code",
   "execution_count": 25,
   "metadata": {},
   "outputs": [
    {
     "data": {
      "text/markdown": [
       "Similarity [sys] | Score [%] | Mean Absolute Error | Pre-processing (s) | Encryption (ms) | FHE/Plain Compute Growth (ms) [%]\n",
       "---|---|---|---|---|---\n",
       "KLD [linux] | 2.28e-01 [81.44%] | 1.23e-08 | 22.00 | 237.00 | 68.31 [365971.43%]\n",
       "Cramer [linux] | 4.81e-01 [94.37%] | 7.72e-10 | 22.00 | 119.33 | 185.31 [926566.67%]\n",
       "BC [linux] | 9.44e-01 [51.86%] | 1.32e-09 | 22.00 | 242.00 | 47.32 [489555.17%]"
      ],
      "text/plain": [
       "<IPython.core.display.Markdown object>"
      ]
     },
     "execution_count": 25,
     "metadata": {},
     "output_type": "execute_result"
    }
   ],
   "source": [
    "mean_md_table(rgb_moving_single_100s_white)"
   ]
  },
  {
   "cell_type": "markdown",
   "metadata": {},
   "source": [
    "## Scenario 3: Moving Multiple Colors\n",
    "\n",
    "Duration: 3 minutes, 59 seconds\n",
    "\n",
    "Moving bars of multiple colors (Red, Green, Blue), moving left every 1 second."
   ]
  },
  {
   "cell_type": "markdown",
   "metadata": {},
   "source": [
    "### Test 1: Compare to Static Color\n",
    "\n",
    "Compare a static color to moving bars to determine the similarity score between the two."
   ]
  },
  {
   "cell_type": "markdown",
   "metadata": {},
   "source": [
    "#### Assertion 1: Black 100s ❌ REDO\n",
    "\n",
    "> Hypothesis: The score should indicate low similarity, as static color will have little variation, while the moving bars will have a changing distribution."
   ]
  },
  {
   "cell_type": "code",
   "execution_count": 26,
   "metadata": {},
   "outputs": [
    {
     "data": {
      "text/markdown": [
       "Similarity [sys] [frameCount] | Score [%] | Mean FHE Absolute Error | Pre-processing (s) | Encryption (ms) | FHE Compute (ms) | Plaintext Compute (ms) | FHE/Plain Compute Growth (ms) [%]\n",
       "---|---|---|---|---|---|---|---\n",
       "KLD [linux] [all] | 1.87e-03 [99.81%] | 2.10e-11 | 94.50 | 251.00 | 72.00 | 0.02 | 71.98 [449900.00%]\n",
       "Cramer [linux] [all] | 2.44e-02 [99.95%] | 1.02e-10 | 94.50 | 122.00 | 191.00 | 0.03 | 190.97 [763900.00%]\n",
       "BC [linux] [all] | 9.99e-01 [97.56%] | 1.27e-10 | 94.50 | 244.00 | 49.00 | 0.01 | 48.99 [408233.33%]\n",
       "KLD [linux] [firstLast] | 1.89e-03 [99.81%] | 3.33e-10 | 62.00 | 260.00 | 83.00 | 0.91 | 82.09 [9020.88%]\n",
       "Cramer [linux] [firstLast] | 2.33e-02 [99.95%] | 3.91e-10 | 62.00 | 122.00 | 194.00 | 0.35 | 193.65 [55969.36%]\n",
       "BC [linux] [firstLast] | 9.99e-01 [97.67%] | 4.30e-10 | 62.00 | 246.00 | 52.00 | 0.14 | 51.85 [35762.07%]\n",
       "KLD [linux] [randomHalf] | 4.00e-01 [71.44%] | 7.84e-09 | 106.50 | 248.00 | 72.00 | 0.02 | 71.98 [299900.00%]\n",
       "Cramer [linux] [randomHalf] | 2.33e-01 [91.17%] | 1.42e-10 | 106.50 | 121.00 | 190.00 | 0.03 | 189.97 [558723.53%]\n",
       "BC [linux] [randomHalf] | 9.12e-01 [76.67%] | 3.58e-10 | 106.50 | 241.00 | 48.00 | 0.01 | 47.99 [369130.77%]"
      ],
      "text/plain": [
       "<IPython.core.display.Markdown object>"
      ]
     },
     "execution_count": 26,
     "metadata": {},
     "output_type": "execute_result"
    }
   ],
   "source": [
    "rgb_moving_multiple_100s_black = \"2_YT_RGB/3_Multi_Moving/1_Compare_Static/1_Black_100s\"\n",
    "verbose_md_table(rgb_moving_multiple_100s_black)"
   ]
  },
  {
   "cell_type": "code",
   "execution_count": 27,
   "metadata": {},
   "outputs": [
    {
     "data": {
      "text/markdown": [
       "Similarity [sys] | Score [%] | Mean Absolute Error | Pre-processing (s) | Encryption (ms) | FHE/Plain Compute Growth (ms) [%]\n",
       "---|---|---|---|---|---\n",
       "KLD [linux] | 1.35e-01 [88.14%] | 2.73e-09 | 87.67 | 253.00 | 75.35 [23794.74%]\n",
       "Cramer [linux] | 9.37e-02 [97.02%] | 2.12e-10 | 87.67 | 121.67 | 191.53 [141875.31%]\n",
       "BC [linux] | 9.70e-01 [90.63%] | 3.05e-10 | 87.67 | 243.67 | 49.61 [87547.06%]"
      ],
      "text/plain": [
       "<IPython.core.display.Markdown object>"
      ]
     },
     "execution_count": 27,
     "metadata": {},
     "output_type": "execute_result"
    }
   ],
   "source": [
    "mean_md_table(rgb_moving_multiple_100s_black)"
   ]
  },
  {
   "cell_type": "markdown",
   "metadata": {},
   "source": [
    "#### Assertion 2: White 100s\n",
    "\n",
    "> Hypothesis: The score should match the previous assertion, as the distribution of the static color is the same. while the moving bars will have a changing distribution."
   ]
  },
  {
   "cell_type": "code",
   "execution_count": 28,
   "metadata": {},
   "outputs": [
    {
     "data": {
      "text/markdown": [
       "Similarity [sys] [frameCount] | Score [%] | Mean FHE Absolute Error | Pre-processing (s) | Encryption (ms) | FHE Compute (ms) | Plaintext Compute (ms) | FHE/Plain Compute Growth (ms) [%]\n",
       "---|---|---|---|---|---|---|---\n",
       "KLD [linux] [all] | 1.87e-03 [99.81%] | 1.59e-10 | 29.00 | 240.00 | 71.00 | 0.02 | 70.98 [354900.00%]\n",
       "Cramer [linux] [all] | 2.44e-02 [99.95%] | 2.85e-10 | 29.00 | 120.00 | 189.00 | 0.03 | 188.97 [726823.08%]\n",
       "BC [linux] [all] | 9.99e-01 [97.56%] | 3.12e-10 | 29.00 | 241.00 | 48.00 | 0.01 | 47.99 [479900.00%]\n",
       "KLD [linux] [firstLast] | 1.89e-03 [99.81%] | 1.10e-11 | 17.00 | 244.00 | 69.00 | 0.02 | 68.98 [299900.00%]\n",
       "Cramer [linux] [firstLast] | 2.33e-02 [99.95%] | 2.51e-10 | 17.00 | 118.00 | 190.00 | 0.04 | 189.96 [527677.78%]\n",
       "BC [linux] [firstLast] | 9.99e-01 [97.67%] | 6.01e-11 | 17.00 | 237.00 | 48.00 | 0.01 | 47.99 [342757.14%]\n",
       "KLD [linux] [randomHalf] | 5.12e-01 [66.12%] | 6.14e-09 | 19.00 | 236.00 | 69.00 | 0.02 | 68.98 [431150.00%]\n",
       "Cramer [linux] [randomHalf] | 2.76e-01 [89.21%] | 4.69e-10 | 19.00 | 118.00 | 185.00 | 0.07 | 184.93 [276019.40%]\n",
       "BC [linux] [randomHalf] | 8.92e-01 [72.41%] | 3.45e-11 | 19.00 | 236.00 | 48.00 | 0.01 | 47.99 [479900.00%]"
      ],
      "text/plain": [
       "<IPython.core.display.Markdown object>"
      ]
     },
     "execution_count": 28,
     "metadata": {},
     "output_type": "execute_result"
    }
   ],
   "source": [
    "rgb_moving_multiple_100s_white = \"2_YT_RGB/3_Multi_Moving/1_Compare_Static/2_White_100s\"\n",
    "verbose_md_table(rgb_moving_multiple_100s_white)"
   ]
  },
  {
   "cell_type": "code",
   "execution_count": 29,
   "metadata": {},
   "outputs": [
    {
     "data": {
      "text/markdown": [
       "Similarity [sys] | Score [%] | Mean Absolute Error | Pre-processing (s) | Encryption (ms) | FHE/Plain Compute Growth (ms) [%]\n",
       "---|---|---|---|---|---\n",
       "KLD [linux] | 1.72e-01 [85.32%] | 2.10e-09 | 21.67 | 240.00 | 69.65 [354137.29%]\n",
       "Cramer [linux] | 1.08e-01 [96.37%] | 3.35e-10 | 21.67 | 118.67 | 187.96 [437109.30%]\n",
       "BC [linux] | 9.64e-01 [89.21%] | 1.35e-10 | 21.67 | 238.00 | 47.99 [423429.41%]"
      ],
      "text/plain": [
       "<IPython.core.display.Markdown object>"
      ]
     },
     "execution_count": 29,
     "metadata": {},
     "output_type": "execute_result"
    }
   ],
   "source": [
    "mean_md_table(rgb_moving_multiple_100s_white)"
   ]
  },
  {
   "cell_type": "markdown",
   "metadata": {},
   "source": [
    "### Test 2: Compare to Moving Single Color\n",
    "\n",
    "Compare moving bars of single colors to moving bars of multiple colors to determine the similarity score between the two."
   ]
  },
  {
   "cell_type": "markdown",
   "metadata": {},
   "source": [
    "#### Assertion 1: Single Color 100s\n",
    "\n",
    "> Hypothesis: The score should indicate low similarity, as the distribution of the moving bars of multiple colors will have more variation."
   ]
  },
  {
   "cell_type": "code",
   "execution_count": 30,
   "metadata": {},
   "outputs": [
    {
     "data": {
      "text/markdown": [
       "Similarity [sys] [frameCount] | Score [%] | Mean FHE Absolute Error | Pre-processing (s) | Encryption (ms) | FHE Compute (ms) | Plaintext Compute (ms) | FHE/Plain Compute Growth (ms) [%]\n",
       "---|---|---|---|---|---|---|---\n",
       "KLD [linux] [all] | 4.12e-03 [99.59%] | 8.33e-11 | 35.00 | 248.00 | 69.00 | 0.02 | 68.98 [405782.35%]\n",
       "Cramer [linux] [all] | 2.78e-02 [99.90%] | 1.89e-10 | 35.00 | 124.00 | 189.00 | 0.02 | 188.98 [858990.91%]\n",
       "BC [linux] [all] | 9.99e-01 [97.22%] | 4.46e-10 | 35.00 | 250.00 | 48.00 | 0.01 | 47.99 [533233.33%]\n",
       "KLD [linux] [firstLast] | 8.05e-03 [99.20%] | 2.24e-04 | 18.00 | 231.00 | 69.00 | 0.02 | 68.98 [383233.33%]\n",
       "Cramer [linux] [firstLast] | 4.51e-02 [99.80%] | 3.66e-10 | 18.00 | 116.00 | 181.00 | 0.02 | 180.98 [861804.76%]\n",
       "BC [linux] [firstLast] | 9.98e-01 [95.49%] | 9.37e-11 | 18.00 | 232.00 | 47.00 | 0.01 | 46.99 [469900.00%]\n",
       "KLD [linux] [randomHalf] | 1.58e-01 [86.37%] | 8.03e-11 | 22.00 | 240.00 | 68.00 | 0.02 | 67.98 [357794.74%]\n",
       "Cramer [linux] [randomHalf] | 5.54e-01 [95.65%] | 1.55e-11 | 22.00 | 118.00 | 184.00 | 0.02 | 183.98 [876090.48%]\n",
       "BC [linux] [randomHalf] | 9.56e-01 [44.58%] | 4.46e-10 | 22.00 | 235.00 | 49.00 | 0.01 | 48.99 [699900.00%]"
      ],
      "text/plain": [
       "<IPython.core.display.Markdown object>"
      ]
     },
     "execution_count": 30,
     "metadata": {},
     "output_type": "execute_result"
    }
   ],
   "source": [
    "rgb_moving_multiple_moving_100s = \"2_YT_RGB/3_Multi_Moving/2_Compare_Single_Moving/1_100s\"\n",
    "verbose_md_table(rgb_moving_multiple_moving_100s)"
   ]
  },
  {
   "cell_type": "code",
   "execution_count": 31,
   "metadata": {},
   "outputs": [
    {
     "data": {
      "text/markdown": [
       "Similarity [sys] | Score [%] | Mean Absolute Error | Pre-processing (s) | Encryption (ms) | FHE/Plain Compute Growth (ms) [%]\n",
       "---|---|---|---|---|---\n",
       "KLD [linux] | 5.67e-02 [94.64%] | 7.46e-05 | 25.00 | 239.67 | 68.65 [381381.48%]\n",
       "Cramer [linux] | 2.09e-01 [98.45%] | 1.90e-10 | 25.00 | 119.33 | 184.65 [865525.00%]\n",
       "BC [linux] | 9.84e-01 [79.10%] | 3.29e-10 | 25.00 | 239.00 | 47.99 [553746.15%]"
      ],
      "text/plain": [
       "<IPython.core.display.Markdown object>"
      ]
     },
     "execution_count": 31,
     "metadata": {},
     "output_type": "execute_result"
    }
   ],
   "source": [
    "mean_md_table(rgb_moving_multiple_moving_100s)"
   ]
  }
 ],
 "metadata": {
  "kernelspec": {
   "display_name": ".venv",
   "language": "python",
   "name": "python3"
  },
  "language_info": {
   "codemirror_mode": {
    "name": "ipython",
    "version": 3
   },
   "file_extension": ".py",
   "mimetype": "text/x-python",
   "name": "python",
   "nbconvert_exporter": "python",
   "pygments_lexer": "ipython3",
   "version": "3.12.6"
  }
 },
 "nbformat": 4,
 "nbformat_minor": 2
}
