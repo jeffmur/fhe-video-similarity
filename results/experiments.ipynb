{
 "cells": [
  {
   "cell_type": "code",
   "execution_count": 1,
   "metadata": {},
   "outputs": [],
   "source": [
    "from log import *"
   ]
  },
  {
   "cell_type": "markdown",
   "metadata": {},
   "source": [
    "# Accuracy 🎯 & Performance 🏃‍♂️\n",
    "\n",
    "> https://github.com/jeffmur/fhe-video-similarity/wiki/experiment\n",
    "\n",
    "This notebook serves to analyze, compare, and visulize the performance and accuracy of computing video similarity scores.\n",
    "\n",
    "There are three metrics being gather within the application:\n",
    "\n",
    "⚙️ **Pre-processing Time**: The time it takes to convert the video into a format that can be used for comparison.\n",
    "\n",
    "📊 **Similarity Scores**: The time it takes to encrypt & compute a similarity score."
   ]
  },
  {
   "cell_type": "markdown",
   "metadata": {},
   "source": [
    "## Experiment 1: Static Color"
   ]
  },
  {
   "cell_type": "markdown",
   "metadata": {},
   "source": [
    "### Scenario 1: Black & White"
   ]
  },
  {
   "cell_type": "markdown",
   "metadata": {
    "vscode": {
     "languageId": "plaintext"
    }
   },
   "source": [
    "#### Test 1: 10 second video"
   ]
  },
  {
   "cell_type": "code",
   "execution_count": 2,
   "metadata": {},
   "outputs": [
    {
     "name": "stdout",
     "output_type": "stream",
     "text": [
      "--- ImportSimilarityScores ---\n",
      "(8) Logs in total\n",
      "(3) BaselineSimilarityScoreMetric\n",
      " - (1) KLD\n",
      " - (1) Bhattacharyya\n",
      " - (1) Cramer\n",
      "(3) CiphertextSimilarityScoreMetric\n",
      " - (1) KLD\n",
      " - (1) Bhattacharyya\n",
      " - (1) Cramer\n",
      "------------------------------\n",
      "8.083131122610207e-11\n",
      "6.884020020692105e-10\n",
      "9.917588966739958e-10\n",
      "33667\n",
      "29914\n",
      "30807\n"
     ]
    }
   ],
   "source": [
    "\n",
    "# Class to analyze logs\n",
    "    \n",
    "prefix = \"1_Static_Color/1_Black_White/1_10s/1_100_percent\"\n",
    "linux_sso_all_logs = ImportSimilarityScores(f'{prefix}/linux_sso_all.csv')\n",
    "linux_sso_all_logs.info()\n",
    "\n",
    "print(linux_sso_all_logs.score_diff(\"kld\"))\n",
    "print(linux_sso_all_logs.score_diff(\"bhattacharyya\"))\n",
    "print(linux_sso_all_logs.score_diff(\"cramer\"))\n",
    "\n",
    "print(linux_sso_all_logs.duration_diff_µs(\"kld\"))\n",
    "print(linux_sso_all_logs.duration_diff_µs(\"bhattacharyya\"))\n",
    "print(linux_sso_all_logs.duration_diff_µs(\"cramer\"))"
   ]
  }
 ],
 "metadata": {
  "kernelspec": {
   "display_name": ".venv",
   "language": "python",
   "name": "python3"
  },
  "language_info": {
   "codemirror_mode": {
    "name": "ipython",
    "version": 3
   },
   "file_extension": ".py",
   "mimetype": "text/x-python",
   "name": "python",
   "nbconvert_exporter": "python",
   "pygments_lexer": "ipython3",
   "version": "3.12.5"
  }
 },
 "nbformat": 4,
 "nbformat_minor": 2
}
