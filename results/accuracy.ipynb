{
 "cells": [
  {
   "cell_type": "markdown",
   "metadata": {},
   "source": [
    "# Accuracy 🎯\n",
    "\n",
    "> https://github.com/jeffmur/fhe-video-similarity/wiki/experiment\n",
    "\n",
    "This notebook serves to analyze, compare, and visulize the mean error of fully homomorphic encryption on similarity scores.\n",
    "\n",
    "Note: Every experiment uses the same encryption scheme & parameters.\n",
    "\n",
    "There are three metrics being gather within the application:\n",
    "\n",
    "⚙️ **Pre-processing Time**: The time it takes to convert the video into a format that can be used for comparison.\n",
    "\n",
    "📊 **Similarity Scores**: The time it takes to encrypt & compute a similarity score."
   ]
  },
  {
   "cell_type": "code",
   "execution_count": 1,
   "metadata": {},
   "outputs": [],
   "source": [
    "from log import *"
   ]
  },
  {
   "cell_type": "markdown",
   "metadata": {},
   "source": [
    "## Experiment 1: Static Color"
   ]
  },
  {
   "cell_type": "markdown",
   "metadata": {},
   "source": [
    "### Scenario 1: Black & White"
   ]
  },
  {
   "cell_type": "markdown",
   "metadata": {
    "vscode": {
     "languageId": "plaintext"
    }
   },
   "source": [
    "#### Test 1: 10 second video"
   ]
  },
  {
   "cell_type": "markdown",
   "metadata": {},
   "source": [
    "##### Assertion 100% Similarity"
   ]
  },
  {
   "cell_type": "code",
   "execution_count": 2,
   "metadata": {},
   "outputs": [],
   "source": [
    "black_white_scene_10s = \"1_Static_Color/1_Black_White/1_10s/1_100_percent\"\n",
    "kld_err = 0\n",
    "bhattacharyya_err = 0\n",
    "cramer_err = 0"
   ]
  },
  {
   "cell_type": "code",
   "execution_count": 8,
   "metadata": {},
   "outputs": [
    {
     "name": "stdout",
     "output_type": "stream",
     "text": [
      "Error Caused by FHE Approximations\n",
      "Function | Mean Error\n",
      "---|----\n",
      "KLD | 1.56624243137863e-09\n",
      "Bhattacharyya | 1.7519145393644446e-09\n",
      "Cramer | 4.56028925228837e-09\n"
     ]
    }
   ],
   "source": [
    "for frameType in [\"all\", \"firstLast\", \"randomHalf\"]:\n",
    "    linux_sso_logs = ImportSimilarityScores(f'{black_white_scene_10s}/linux_sso_{frameType}.csv')\n",
    "\n",
    "    kld_err += linux_sso_logs.score_diff(\"kld\")\n",
    "    bhattacharyya_err += linux_sso_logs.score_diff(\"bhattacharyya\")\n",
    "    cramer_err += linux_sso_logs.score_diff(\"cramer\")\n",
    "\n",
    "kld_mean_err = kld_err / 3\n",
    "bhattacharyya_mean_err = bhattacharyya_err / 3\n",
    "cramer_mean_err = cramer_err / 3\n",
    "\n",
    "print(\"Error Caused by FHE Approximations\")\n",
    "print(\"Function | Mean Error\")\n",
    "print(\"---|----\")\n",
    "print(f\"KLD | {kld_mean_err}\")\n",
    "print(f\"Cramer | {cramer_mean_err}\")\n",
    "print(f\"Bhattacharyya | {bhattacharyya_mean_err}\")"
   ]
  }
 ],
 "metadata": {
  "kernelspec": {
   "display_name": ".venv",
   "language": "python",
   "name": "python3"
  },
  "language_info": {
   "codemirror_mode": {
    "name": "ipython",
    "version": 3
   },
   "file_extension": ".py",
   "mimetype": "text/x-python",
   "name": "python",
   "nbconvert_exporter": "python",
   "pygments_lexer": "ipython3",
   "version": "3.12.5"
  }
 },
 "nbformat": 4,
 "nbformat_minor": 2
}
