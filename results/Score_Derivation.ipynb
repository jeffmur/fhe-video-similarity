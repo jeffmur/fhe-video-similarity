{
 "cells": [
  {
   "cell_type": "markdown",
   "metadata": {},
   "source": [
    "# Score Derivation 🧮\n",
    "\n",
    "https://github.com/jeffmur/fhe-video-similarity/wiki/experiment\n",
    "\n",
    "This notebook serves to analyze, compare, and visualize the difference between SSO and Dart similarity score implementations.\n",
    "\n",
    "## Baseline: Similarity of Simultaneous Observation (SSO)\n",
    "\n",
    "In the original paper, they used Kullback-Leibler Divergence (KLD), Cramer's Distance (CD), Correlation Coefficient (CC), Jensen-Shannon Divergence (JSD), and Dynamic Time Warping (DTW)\n",
    "\n",
    "Due to the limitation of the FHE library, only basic arithmetic operations are supported. Therefore, we can only compare KLD & CD.\n",
    "\n",
    "## Proposed: Dart Similarity Scores\n",
    "\n",
    "https://pub.dev/packages/fhe_similarity_score\n"
   ]
  },
  {
   "cell_type": "code",
   "execution_count": 1,
   "metadata": {},
   "outputs": [],
   "source": [
    "from utils.baseline_tables import verbose_kld_cramer, summary_kld_cramer"
   ]
  },
  {
   "cell_type": "markdown",
   "metadata": {},
   "source": [
    "## Experiment 1: Average & Standard Deviation\n",
    "\n",
    "Compare the average and standard deviation of the similarity scores between SSO and Dart.\n",
    "\n"
   ]
  },
  {
   "cell_type": "code",
   "execution_count": 2,
   "metadata": {},
   "outputs": [
    {
     "data": {
      "text/markdown": [
       "File | KLD SSO σ | KLD Dart σ | KLD SSO ± Dart σ | Cramer SSO σ | Cramer Dart σ | Cramer SSO ± Dart σ\n",
       "---|---|---|---|---|---|---\n",
       "1080p-0_degree.csv | 0.006638 | 0.006638 | 0.000000 | 0.005275 | 0.005275 | 0.000000\n",
       "1080p-180_degree.csv | 0.014108 | 0.014108 | 0.000000 | 0.004027 | 0.004027 | 0.000000\n",
       "1080p-90_degree.csv | 1.408425 | 0.881944 | 0.526481 | 0.025746 | 0.025746 | 0.000000\n",
       "720p-0_degree.csv | 0.003487 | 0.003487 | 0.000000 | 0.003457 | 0.003457 | 0.000000\n",
       "720p-180_degree.csv | 0.011143 | 0.011143 | 0.000000 | 0.006124 | 0.006124 | 0.000000\n",
       "720p-90_degree.csv | 0.004465 | 0.004465 | 0.000000 | 0.004498 | 0.004498 | 0.000000"
      ],
      "text/plain": [
       "<IPython.core.display.Markdown object>"
      ]
     },
     "execution_count": 2,
     "metadata": {},
     "output_type": "execute_result"
    }
   ],
   "source": [
    "verbose_kld_cramer('1_baseline')"
   ]
  },
  {
   "cell_type": "markdown",
   "metadata": {},
   "source": [
    "The variance in KLD, relates specficially to the absence of data (i.e zero values) for Pcap. KLD has a defined range of [0, ∞] and the SSO implementation uses Shannon [entropy](https://docs.scipy.org/doc/scipy/reference/generated/scipy.stats.entropy.html) when either P or Q is zero, which has not been performed within the Dart implementation. The dart implementation adds epsilon, 1e-12, to the denominator to avoid division by zero."
   ]
  },
  {
   "cell_type": "code",
   "execution_count": 3,
   "metadata": {},
   "outputs": [
    {
     "data": {
      "text/markdown": [
       "Algorithm | Avg. Standard Deviation\n",
       "---|---\n",
       "KLD Dart | 0.153631\n",
       "KLD SSO  | 0.241378\n",
       "Cramer Dart | 0.008188\n",
       "Cramer SSO | 0.008188"
      ],
      "text/plain": [
       "<IPython.core.display.Markdown object>"
      ]
     },
     "execution_count": 3,
     "metadata": {},
     "output_type": "execute_result"
    }
   ],
   "source": [
    "summary_kld_cramer('1_baseline')"
   ]
  }
 ],
 "metadata": {
  "kernelspec": {
   "display_name": ".venv",
   "language": "python",
   "name": "python3"
  },
  "language_info": {
   "codemirror_mode": {
    "name": "ipython",
    "version": 3
   },
   "file_extension": ".py",
   "mimetype": "text/x-python",
   "name": "python",
   "nbconvert_exporter": "python",
   "pygments_lexer": "ipython3",
   "version": "3.12.6"
  }
 },
 "nbformat": 4,
 "nbformat_minor": 2
}
