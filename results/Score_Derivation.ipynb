{
 "cells": [
  {
   "cell_type": "markdown",
   "metadata": {},
   "source": [
    "# Score Derivation 🧮\n",
    "\n",
    "https://github.com/jeffmur/fhe-video-similarity/wiki/experiment\n",
    "\n",
    "This notebook serves to analyze, compare, and visualize the difference between SSO and Dart similarity score implementations.\n",
    "\n",
    "## Baseline: Similarity of Simultaneous Observation (SSO)\n",
    "\n",
    "In the original paper, they used Kullback-Leibler Divergence (KLD), Cramer's Distance (CD), Correlation Coefficient (CC), Jensen-Shannon Divergence (JSD), and Dynamic Time Warping (DTW)\n",
    "\n",
    "Due to the limitation of the FHE library, only basic arithmetic operations are supported. Therefore, we can only compare KLD & CD.\n",
    "\n",
    "## Proposed: Dart Similarity Scores\n",
    "\n",
    "https://pub.dev/packages/fhe_similarity_score\n"
   ]
  },
  {
   "cell_type": "markdown",
   "metadata": {},
   "source": [
    "## Experiment 1: Average & Standard Deviation\n",
    "\n",
    "Compare the average and standard deviation of the similarity scores between SSO and Dart.\n",
    "\n"
   ]
  },
  {
   "cell_type": "code",
   "execution_count": null,
   "metadata": {
    "vscode": {
     "languageId": "plaintext"
    }
   },
   "outputs": [],
   "source": []
  }
 ],
 "metadata": {
  "language_info": {
   "name": "python"
  }
 },
 "nbformat": 4,
 "nbformat_minor": 2
}
